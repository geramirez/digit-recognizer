{
 "cells": [
  {
   "cell_type": "code",
   "execution_count": 1,
   "metadata": {
    "collapsed": false
   },
   "outputs": [],
   "source": [
    "import pandas as pd\n",
    "import numpy as np\n",
    "import random \n",
    "\n",
    "from scipy.stats import zscore\n",
    "from numpy import linalg\n",
    "\n",
    "from sklearn.metrics import accuracy_score, precision_score, recall_score\n",
    "from sklearn import tree\n",
    "from sklearn.svm import SVC"
   ]
  },
  {
   "cell_type": "code",
   "execution_count": 4,
   "metadata": {
    "collapsed": false
   },
   "outputs": [],
   "source": [
    "# Load the data\n",
    "data = pd.read_csv('../data/train.csv')"
   ]
  },
  {
   "cell_type": "code",
   "execution_count": 5,
   "metadata": {
    "collapsed": false
   },
   "outputs": [],
   "source": [
    "# Randomize by label\n",
    "## Create new column to store random values\n",
    "data['random'] = 0.0\n",
    "## Iterate through data to fill random column\n",
    "## TODO: this could be better stratified, but the groups are almost equal \n",
    "for label in data.label.unique():\n",
    "    shape = data.loc[data.label == label, 'random'].shape\n",
    "    data.loc[data.label == label, 'random'] = np.random.rand(shape[0])"
   ]
  },
  {
   "cell_type": "code",
   "execution_count": 6,
   "metadata": {
    "collapsed": false
   },
   "outputs": [],
   "source": [
    "# Normalize data\n",
    "## Get only columns that have pixel in the title\n",
    "pixel_cols = data.columns.str.contains('pixel')\n",
    "## Save columns that don't\n",
    "label_columns = data.loc[:,['random', 'label']]\n",
    "## Put then back together while normalizing the other columns\n",
    "## This method saves memory\n",
    "data = data.loc[:, pixel_cols].apply(zscore, axis=0)\n",
    "data['label'] = label_columns.label\n",
    "data['random'] = label_columns.random\n",
    "del label_columns"
   ]
  },
  {
   "cell_type": "code",
   "execution_count": 7,
   "metadata": {
    "collapsed": true
   },
   "outputs": [],
   "source": [
    "# drop NAs\n",
    "data = data.dropna(axis=1)"
   ]
  },
  {
   "cell_type": "code",
   "execution_count": 8,
   "metadata": {
    "collapsed": false
   },
   "outputs": [
    {
     "name": "stdout",
     "output_type": "stream",
     "text": [
      "8472  in the validation set\n",
      "8474  in the testing set\n",
      "25054  in the training set\n",
      "42000  total\n"
     ]
    }
   ],
   "source": [
    "randarray = np.random.rand(len(data))\n",
    "train_msk = (randarray >= .2) & (randarray <= .8)\n",
    "test_msk = randarray < .2\n",
    "validate_msk = randarray > .8\n",
    "# Get test and train data\n",
    "train_data = data[train_msk]\n",
    "test_data = data[test_msk]\n",
    "validate_data = data[validate_msk]\n",
    "print(validate_data.shape[0], ' in the validation set')\n",
    "print(test_data.shape[0], ' in the testing set')\n",
    "print(train_data.shape[0], ' in the training set')\n",
    "print(validate_data.shape[0] + test_data.shape[0] + train_data.shape[0], ' total')"
   ]
  },
  {
   "cell_type": "code",
   "execution_count": 9,
   "metadata": {
    "collapsed": false
   },
   "outputs": [],
   "source": [
    "# For 500 times randomly select 10 attributes at a time and train a decision tree \n",
    "# classifier\n",
    "lastset = 0\n",
    "results = []\n",
    "for idx in range(500):\n",
    "    cols = random.sample(range(data.shape[1]-2), 10)\n",
    "    clf = tree.DecisionTreeClassifier()\n",
    "    clf.fit(train_data.iloc[:, cols], train_data.label)\n",
    "    predictions = clf.predict(test_data.iloc[:, cols])\n",
    "    results.append([accuracy_score(test_data.label, predictions)] + cols)"
   ]
  },
  {
   "cell_type": "code",
   "execution_count": 10,
   "metadata": {
    "collapsed": false
   },
   "outputs": [],
   "source": [
    "# Use the results to extract important columns\n",
    "clf_results = pd.DataFrame(results)\n",
    "important_cols = []\n",
    "mean_result = clf_results.iloc[:,0].mean()\n",
    "for row in clf_results.iterrows():\n",
    "    if row[1][0] > mean_result:\n",
    "        important_cols.extend(row[1][1:])\n",
    "important_cols_result = pd.Series(important_cols).value_counts()"
   ]
  },
  {
   "cell_type": "code",
   "execution_count": 11,
   "metadata": {
    "collapsed": false
   },
   "outputs": [
    {
     "name": "stdout",
     "output_type": "stream",
     "text": [
      "0.803234183192\n"
     ]
    }
   ],
   "source": [
    "# Use dtree classifier to fit a new model\n",
    "cols = important_cols_result.index[0:61]\n",
    "clf = tree.DecisionTreeClassifier()\n",
    "clf.fit(train_data.iloc[:, cols], train_data.label)\n",
    "predictions = clf.predict(validate_data.iloc[:, cols])\n",
    "print(accuracy_score(validate_data.label, predictions))\n",
    "#print(precision_score(validate_data.label, predictions))\n",
    "#print(recall_score(validate_data.label, predictions))"
   ]
  },
  {
   "cell_type": "code",
   "execution_count": 12,
   "metadata": {
    "collapsed": false
   },
   "outputs": [
    {
     "name": "stdout",
     "output_type": "stream",
     "text": [
      "0.941690273843\n"
     ]
    }
   ],
   "source": [
    "# Use SVM classifier to fit a new model, it works much better\n",
    "cols = important_cols_result.index[0:61]\n",
    "clf = SVC()\n",
    "clf.fit(train_data.iloc[:, cols], train_data.label)\n",
    "predictions = clf.predict(validate_data.iloc[:, cols])\n",
    "accuracy_score(validate_data.label, predictions)\n",
    "print(accuracy_score(validate_data.label, predictions))\n",
    "#print(precision_score(validate_data.label, predictions))\n",
    "#print(recall_score(validate_data.label, predictions))"
   ]
  },
  {
   "cell_type": "code",
   "execution_count": 13,
   "metadata": {
    "collapsed": false
   },
   "outputs": [
    {
     "data": {
      "text/plain": [
       "Index(['pixel511', 'pixel569', 'pixel515', 'pixel128', 'pixel636', 'pixel429',\n",
       "       'pixel147', 'pixel461', 'pixel638', 'pixel179', 'pixel295', 'pixel463',\n",
       "       'pixel236', 'pixel464', 'pixel216', 'pixel378', 'pixel457', 'pixel455',\n",
       "       'pixel350', 'pixel325', 'pixel459', 'pixel751', 'pixel291', 'pixel328',\n",
       "       'pixel541', 'pixel436', 'pixel545', 'pixel466', 'pixel465', 'pixel108',\n",
       "       'pixel408', 'pixel454', 'pixel346', 'pixel400', 'pixel187', 'pixel186',\n",
       "       'pixel372', 'pixel655', 'pixel442', 'pixel381', 'pixel68', 'pixel441',\n",
       "       'pixel435', 'pixel431', 'pixel430', 'pixel403', 'pixel685', 'pixel656',\n",
       "       'pixel157', 'pixel721', 'pixel514', 'pixel575', 'pixel241', 'pixel557',\n",
       "       'pixel555', 'pixel259', 'pixel129', 'pixel267', 'pixel274', 'pixel130',\n",
       "       'pixel289'],\n",
       "      dtype='object')"
      ]
     },
     "execution_count": 13,
     "metadata": {},
     "output_type": "execute_result"
    }
   ],
   "source": [
    "# Show important columns\n",
    "train_data.iloc[:, cols].columns"
   ]
  },
  {
   "cell_type": "code",
   "execution_count": null,
   "metadata": {
    "collapsed": true
   },
   "outputs": [],
   "source": []
  }
 ],
 "metadata": {
  "kernelspec": {
   "display_name": "Python 3",
   "language": "python",
   "name": "python3"
  },
  "language_info": {
   "codemirror_mode": {
    "name": "ipython",
    "version": 3
   },
   "file_extension": ".py",
   "mimetype": "text/x-python",
   "name": "python",
   "nbconvert_exporter": "python",
   "pygments_lexer": "ipython3",
   "version": "3.4.0"
  }
 },
 "nbformat": 4,
 "nbformat_minor": 0
}
