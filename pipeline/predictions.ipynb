{
 "cells": [
  {
   "cell_type": "code",
   "execution_count": 76,
   "metadata": {
    "collapsed": true
   },
   "outputs": [],
   "source": [
    "import pandas as pd\n",
    "import numpy as np\n",
    "import csv\n",
    "\n",
    "from sklearn.decomposition import PCA\n",
    "from sklearn.lda import LDA\n",
    "from sklearn.svm import SVC\n",
    "from sklearn.ensemble import RandomForestClassifier\n",
    "\n",
    "from sklearn.metrics import accuracy_score, precision_score, recall_score"
   ]
  },
  {
   "cell_type": "code",
   "execution_count": 77,
   "metadata": {
    "collapsed": false
   },
   "outputs": [],
   "source": [
    "def separate_labels(data):\n",
    "    \"\"\" Splits the label columns from the data \"\"\"\n",
    "    # Fetch a pixel column mask\n",
    "    pixel_col_msk = data.columns.str.contains(\n",
    "        'pixel|Solidity|AspectRatio|Perimeter|Area|Angle'\n",
    "    )\n",
    "    # Get the label column\n",
    "    label_column = data.loc[:,data.columns.str.contains('digit|label')]\n",
    "    # Get the pixel columns\n",
    "    data = data.loc[:, pixel_col_msk]\n",
    "    return label_column, data\n",
    "\n",
    "def process_pixel(row):\n",
    "    \"\"\" Process an image \"\"\"\n",
    "    if row < 85:\n",
    "        return 0\n",
    "    elif row >= 85 and row <= 170:\n",
    "        return 1 #1\n",
    "    else:\n",
    "        return 2 #2\n",
    "    \n",
    "def process_pixel_col(col):\n",
    "    \"\"\" Process an image \"\"\"\n",
    "    return col.apply(process_pixel)\n",
    "\n",
    "def prep_data(data):\n",
    "    \"\"\" This function contains a few functions for preping the data \"\"\"\n",
    "    try:\n",
    "        labels, data = separate_labels(data)\n",
    "    except:\n",
    "        None\n",
    "    data = data.apply(process_pixel_col, axis=1)\n",
    "    # Reinsert the labels\n",
    "    try:\n",
    "        data['label'] = labels\n",
    "    except:\n",
    "        None\n",
    "    # Drop the empty columns\n",
    "    data = data.dropna(axis=1)\n",
    "    return data\n",
    "\n",
    "def split_data(data):\n",
    "    \"\"\" Split data into a test, training, and validation set\n",
    "    using a 60, 20, 20 ratio \"\"\"\n",
    "    # Create a numpy array of randoms\n",
    "    randarray = np.random.rand(len(data))\n",
    "    # Create a training, test mask, and validation mask\n",
    "    train_msk = (randarray >= .2) & (randarray <= .8)\n",
    "    validate_msk = randarray > .8\n",
    "    # Apply the masks and return data\n",
    "    training_data = data[train_msk]\n",
    "    validation_data = data[validate_msk]\n",
    "    return training_data, validation_data"
   ]
  },
  {
   "cell_type": "code",
   "execution_count": 78,
   "metadata": {
    "collapsed": false
   },
   "outputs": [],
   "source": [
    "data = pd.read_csv('../data/train.csv')\n",
    "testing_data = pd.read_csv('../data/test.csv')\n",
    "testing_data['label'] = 11\n",
    "data = data.append(testing_data)"
   ]
  },
  {
   "cell_type": "code",
   "execution_count": 79,
   "metadata": {
    "collapsed": false
   },
   "outputs": [],
   "source": [
    "data = prep_data(data)"
   ]
  },
  {
   "cell_type": "code",
   "execution_count": 80,
   "metadata": {
    "collapsed": false
   },
   "outputs": [],
   "source": [
    "# Remove empty columns\n",
    "data = data.loc[:, list(data.max()[data.max() > 0].index)]"
   ]
  },
  {
   "cell_type": "code",
   "execution_count": 81,
   "metadata": {
    "collapsed": true
   },
   "outputs": [],
   "source": [
    "# Split into training and testing data\n",
    "data, testing_data = data[data.label < 11], data[data.label == 11]"
   ]
  },
  {
   "cell_type": "code",
   "execution_count": 82,
   "metadata": {
    "collapsed": true
   },
   "outputs": [],
   "source": [
    "# Split into training and validation data\n",
    "training_data, validation_data = split_data(data)"
   ]
  },
  {
   "cell_type": "code",
   "execution_count": 83,
   "metadata": {
    "collapsed": true
   },
   "outputs": [],
   "source": [
    "# Split labels\n",
    "training_labels, training_data = separate_labels(training_data) \n",
    "validation_labels, validation_data = separate_labels(validation_data)\n",
    "_, testing_data = separate_labels(testing_data)"
   ]
  },
  {
   "cell_type": "code",
   "execution_count": 128,
   "metadata": {
    "collapsed": false
   },
   "outputs": [],
   "source": [
    "# PCA transformation building\n",
    "pca = PCA()\n",
    "training_pca = pca.fit(training_data)\n",
    "training_pca.n_components = 110 # use only 110 of the componenets"
   ]
  },
  {
   "cell_type": "code",
   "execution_count": 129,
   "metadata": {
    "collapsed": false
   },
   "outputs": [],
   "source": [
    "# PCA transformation fiting\n",
    "training_transformed = training_pca.fit_transform(training_data)\n",
    "validation_transformed = training_pca.transform(validation_data)\n",
    "testing_transformed = training_pca.transform(testing_data)"
   ]
  },
  {
   "cell_type": "code",
   "execution_count": null,
   "metadata": {
    "collapsed": false
   },
   "outputs": [],
   "source": [
    "# Training Model\n",
    "clf = SVC(kernel=\"rbf\", C=10, gamma=0.01)\n",
    "clf.fit(training_transformed, training_labels.values.ravel())"
   ]
  },
  {
   "cell_type": "code",
   "execution_count": null,
   "metadata": {
    "collapsed": false
   },
   "outputs": [],
   "source": [
    "# Validating Model\n",
    "predicitons = clf.predict(validation_transformed)\n",
    "accuracy_score(validation_labels.values, predicitons)"
   ]
  },
  {
   "cell_type": "code",
   "execution_count": 75,
   "metadata": {
    "collapsed": false
   },
   "outputs": [],
   "source": [
    "# Predict Test set\n",
    "final_export = pd.DataFrame()\n",
    "final_export['label'] = clf.predict(testing_transformed)\n",
    "final_export['ImageId'] = final_export.index + 1\n",
    "final_export.to_csv('test14.csv', index=False)"
   ]
  }
 ],
 "metadata": {
  "kernelspec": {
   "display_name": "Python 3",
   "language": "python",
   "name": "python3"
  },
  "language_info": {
   "codemirror_mode": {
    "name": "ipython",
    "version": 3
   },
   "file_extension": ".py",
   "mimetype": "text/x-python",
   "name": "python",
   "nbconvert_exporter": "python",
   "pygments_lexer": "ipython3",
   "version": "3.4.0"
  }
 },
 "nbformat": 4,
 "nbformat_minor": 0
}
