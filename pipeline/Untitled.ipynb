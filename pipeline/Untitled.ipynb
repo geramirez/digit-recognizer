{
 "cells": [
  {
   "cell_type": "markdown",
   "metadata": {},
   "source": [
    "## Part 1"
   ]
  },
  {
   "cell_type": "markdown",
   "metadata": {},
   "source": [
    "**What features look most promising for modeling?**\n",
    "\n",
    "Initially, the features that looked the most promising for modeling were those that had a high standard deviation. This is because they seemed to be different for each digit and might contain information. However, after a couple trials we found that using PCA gave us the best training set for our data. "
   ]
  },
  {
   "cell_type": "markdown",
   "metadata": {},
   "source": [
    "**Do you need to deal with missing values?**\n",
    "\n",
    "Overall the dataset is very clean. There are, however, some pixels that don't contain information. I found them by checking the max number for every column. The columns that had a max value of 0 did not contain information. "
   ]
  },
  {
   "cell_type": "markdown",
   "metadata": {},
   "source": [
    "Scale the attributes?\n",
    "Initially, we tried to scale the attributes using Z-scores, however, later we found that binning the attributes into 3-4 bins is more effective. "
   ]
  },
  {
   "cell_type": "markdown",
   "metadata": {},
   "source": [
    "**Make initial attempt to model and predict, set your own baseline?**\n",
    "\n",
    "With our initial attempt our team was able to get about 90% accuracy. -- see script `pipeline.py`"
   ]
  },
  {
   "cell_type": "markdown",
   "metadata": {},
   "source": [
    "## Part 2"
   ]
  },
  {
   "cell_type": "markdown",
   "metadata": {},
   "source": [
    "Features\n",
    "\n",
    "Our group tried many different approaches to choose the right features.  \n",
    "\n",
    "**Image Size**\n",
    "One of our team members changed the size of the images to reduce the number of pixels; however, we found that we recived better results using the full dataset.\n",
    "\n",
    "**Entropy**\n",
    "We also tried to select features via entropy scores in weka. However, our models did not produce high accuracy. \n",
    "\n",
    "**Tree-based feature selection**\n",
    "I attempted to use a Tree-based feature selection attempt. Basically, I created 1000 trees each with a random set features. Then I scored the features that created better models. At best, this approach was only able to get our models to 95% accuracy. \n",
    "\n",
    "**PCA**\n",
    "Using PCA was the most successful way of extracting features. Models made with PCA fitted data with 125 componenents scored over 98%\n",
    "\n",
    "**Classifiers**\n",
    "We tried a number of classifiers. Decision Tree Models (84% accuracy), LDA (84% accuracy), Random Forest (96% accuracy), and SVM (98% accuracy). In the end, the SVM and PCA combination produced the best results. -- See test_models.py and predictions for examples. "
   ]
  },
  {
   "cell_type": "markdown",
   "metadata": {},
   "source": [
    "## Part 3"
   ]
  },
  {
   "cell_type": "markdown",
   "metadata": {},
   "source": [
    "**Compare with multiple classifiers, different model settings**\n",
    "\n",
    "The best results for our team came from:\n",
    "1. Binning the pixels into 3-4 bins.\n",
    "2. Dropping the pixels that did not contains any information (basically, the borders)\n",
    "3. Using PCA to extract the most important components and training the models with them\n",
    "4. Using scikit-learn SVC classifier\n",
    "\n",
    "See `predictions.pdf` file for one of the top script. \n",
    "\n",
    "**Can you identify an opportunity for model ensembles, if so describe and evaluate**\n",
    "We attempted to use Random Forest; however, we found that SVM worked the best. "
   ]
  },
  {
   "cell_type": "code",
   "execution_count": null,
   "metadata": {
    "collapsed": true
   },
   "outputs": [],
   "source": []
  }
 ],
 "metadata": {
  "kernelspec": {
   "display_name": "Python 3",
   "language": "python",
   "name": "python3"
  },
  "language_info": {
   "codemirror_mode": {
    "name": "ipython",
    "version": 3
   },
   "file_extension": ".py",
   "mimetype": "text/x-python",
   "name": "python",
   "nbconvert_exporter": "python",
   "pygments_lexer": "ipython3",
   "version": "3.4.0"
  }
 },
 "nbformat": 4,
 "nbformat_minor": 0
}
